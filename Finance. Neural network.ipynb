{
 "cells": [
  {
   "cell_type": "code",
   "execution_count": 24,
   "id": "0dd21f76",
   "metadata": {},
   "outputs": [],
   "source": [
    "import numpy as np\n",
    "import matplotlib.pyplot as plt\n",
    "import pandas as pd             # Таблицы и временные ряды (dataframe, series)\n",
    "import sklearn\n",
    "import sklearn.model_selection\n",
    "%matplotlib inline"
   ]
  },
  {
   "cell_type": "markdown",
   "id": "36d5777f",
   "metadata": {},
   "source": [
    "## 1. Загружаем и обрабатываем данные (аналгично с первым случаем, поэтому уже без объяснений)"
   ]
  },
  {
   "cell_type": "code",
   "execution_count": 25,
   "id": "457bd2ee",
   "metadata": {},
   "outputs": [],
   "source": [
    "url = \"https://raw.githubusercontent.com/Vodeneev/ML/main/2018_Financial_Data.csv\"\n",
    "\n",
    "data_raw = pd.read_csv(url)\n"
   ]
  },
  {
   "cell_type": "code",
   "execution_count": 26,
   "id": "7ebd0279",
   "metadata": {},
   "outputs": [],
   "source": [
    "\n",
    "cols_to_drop = ['priceCashFlowRatio', 'priceEarningsToGrowthRatio', 'enterpriseValueMultiple', 'effectiveTaxRate',\n",
    "\n",
    "                'returnOnAssets', 'returnOnCapitalEmployed', 'nIperEBT', 'eBTperEBIT', 'operatingCycle',\n",
    "\n",
    "                'cashConversionCycle', 'freeCashFlowOperatingCashFlowRatio', 'shortTermCoverageRatios', 'dividendPayoutRatio', \n",
    "\n",
    "               'Current ratio', 'ROIC', 'Return on Tangible Assets', 'Working Capital', '10Y Revenue Growth (per Share)', \n",
    "\n",
    "               '10Y Operating CF Growth (per Share)', '10Y Net Income Growth (per Share)',\n",
    "\n",
    "                '10Y Shareholders Equity Growth (per Share)', '10Y Dividend per Share Growth (per Share)', \n",
    "\n",
    "               'niperEBT', 'ebtperEBIT']\n",
    "\n",
    "data_raw_less_hos_beds_raion = data_raw.drop(cols_to_drop, axis=1)"
   ]
  },
  {
   "cell_type": "code",
   "execution_count": 27,
   "id": "73a45804",
   "metadata": {},
   "outputs": [],
   "source": [
    "for col in data_raw_less_hos_beds_raion.columns:\n",
    "\n",
    "    pct_missing = np.mean(data_raw_less_hos_beds_raion[col].isnull())\n",
    "\n",
    "clear_data = data_raw_less_hos_beds_raion\n",
    "\n",
    "df_numeric = clear_data.select_dtypes(include=[np.number])\n",
    "\n",
    "numeric_cols = df_numeric.columns.values\n",
    "\n",
    "for col in numeric_cols:\n",
    "\n",
    "    missing = clear_data[col].isnull()\n",
    "\n",
    "    num_missing = np.sum(missing)\n",
    "\n",
    "    \n",
    "\n",
    "    if num_missing > 0:\n",
    "        med = clear_data[col].median()\n",
    "\n",
    "        clear_data[col] =clear_data[col].fillna(med)\n",
    "\n",
    "\n",
    "\n",
    "for col in clear_data.columns:\n",
    "\n",
    "    pct_missing = np.mean(clear_data[col].isnull())\n",
    "\n",
    "   \n",
    "data = clear_data\n"
   ]
  },
  {
   "cell_type": "code",
   "execution_count": 28,
   "id": "349f0fb8",
   "metadata": {},
   "outputs": [],
   "source": [
    "corr_mat = data.corr()\n",
    "\n",
    "drop_col = corr_mat.where(np.triu(corr_mat > 0.98, k=1)).stack()\n",
    "\n",
    "cols_to_drop = drop_col.index.droplevel(0).unique()\n",
    "\n",
    "new_data = data.drop(cols_to_drop, axis=1)\n",
    "\n",
    "data = new_data\n",
    "\n",
    "corr_mat = data.corr()\n",
    "\n",
    "new_data = data.drop('Unnamed: 0', axis=1)\n",
    "\n",
    "\n",
    "new_data = pd.get_dummies(new_data)\n",
    "\n",
    "\n",
    "data_stand = (new_data - new_data.mean(axis = 0))/new_data.std(axis = 0)\n",
    "\n",
    "\n",
    "X = new_data.drop([\"Class\"], 1)\n",
    "\n",
    "y = new_data[\"Class\"]\n",
    "\n",
    "\n",
    "X_train, X_test, y_train, y_test = sklearn.model_selection.train_test_split(X, y, test_size=0.25, random_state=5924)\n"
   ]
  },
  {
   "cell_type": "markdown",
   "id": "99fe82d8",
   "metadata": {},
   "source": [
    "## 2. Обучаем классификатор"
   ]
  },
  {
   "cell_type": "code",
   "execution_count": 29,
   "id": "c64ac142",
   "metadata": {},
   "outputs": [],
   "source": [
    "from sklearn.neural_network import MLPClassifier"
   ]
  },
  {
   "cell_type": "code",
   "execution_count": 30,
   "id": "728a42fa",
   "metadata": {},
   "outputs": [],
   "source": [
    "mlp_model = MLPClassifier(hidden_layer_sizes = (100,),\n",
    "                          solver = 'lbfgs', \n",
    "                          activation = 'logistic',\n",
    "                          random_state = 42)"
   ]
  },
  {
   "cell_type": "code",
   "execution_count": 31,
   "id": "d1efc318",
   "metadata": {},
   "outputs": [
    {
     "name": "stdout",
     "output_type": "stream",
     "text": [
      "Wall time: 4.32 s\n"
     ]
    },
    {
     "data": {
      "text/plain": [
       "MLPClassifier(activation='logistic', random_state=42, solver='lbfgs')"
      ]
     },
     "execution_count": 31,
     "metadata": {},
     "output_type": "execute_result"
    }
   ],
   "source": [
    "%%time\n",
    "mlp_model.fit(X_train, y_train)"
   ]
  },
  {
   "cell_type": "markdown",
   "id": "f55ace3a",
   "metadata": {},
   "source": [
    "## 3. Проверяем качество классификатора"
   ]
  },
  {
   "cell_type": "code",
   "execution_count": 32,
   "id": "40f80fe5",
   "metadata": {},
   "outputs": [],
   "source": [
    "y_train_pred = mlp_model.predict(X_train)\n",
    "y_test_pred = mlp_model.predict(X_test)"
   ]
  },
  {
   "cell_type": "markdown",
   "id": "1d523946",
   "metadata": {},
   "source": [
    "\n",
    "### Ошибки на обучающей и тестовой выборках:"
   ]
  },
  {
   "cell_type": "code",
   "execution_count": 33,
   "id": "0abd1eac",
   "metadata": {},
   "outputs": [
    {
     "name": "stdout",
     "output_type": "stream",
     "text": [
      "0.2580449301760777 0.29508196721311475\n"
     ]
    }
   ],
   "source": [
    "print(np.mean(y_train != y_train_pred), np.mean(y_test != y_test_pred))"
   ]
  },
  {
   "cell_type": "code",
   "execution_count": 34,
   "id": "461f7ebf",
   "metadata": {},
   "outputs": [
    {
     "data": {
      "text/plain": [
       "0.7419550698239222"
      ]
     },
     "execution_count": 34,
     "metadata": {},
     "output_type": "execute_result"
    }
   ],
   "source": [
    "from sklearn.metrics import accuracy_score\n",
    "\n",
    "accuracy_score(y_train, y_train_pred)"
   ]
  },
  {
   "cell_type": "code",
   "execution_count": 35,
   "id": "db976584",
   "metadata": {},
   "outputs": [
    {
     "data": {
      "text/plain": [
       "0.7049180327868853"
      ]
     },
     "execution_count": 35,
     "metadata": {},
     "output_type": "execute_result"
    }
   ],
   "source": [
    "accuracy_score(y_test, y_test_pred)"
   ]
  },
  {
   "cell_type": "markdown",
   "id": "8049473d",
   "metadata": {},
   "source": [
    "### Подбор гиперпараметров"
   ]
  },
  {
   "cell_type": "code",
   "execution_count": 36,
   "id": "5ff39fa7",
   "metadata": {},
   "outputs": [],
   "source": [
    "alpha_arr = np.logspace(-3, 2, 21)\n",
    "test_err = []\n",
    "train_err = []\n",
    "train_acc = []\n",
    "test_acc = []\n",
    "\n",
    "for alpha in alpha_arr:\n",
    "    mlp_model = MLPClassifier(alpha = alpha, hidden_layer_sizes = (100,), \n",
    "                              solver = 'lbfgs', activation = 'logistic', max_iter=1000, random_state = 42)\n",
    "    mlp_model.fit(X_train, y_train)\n",
    "\n",
    "    y_train_pred = mlp_model.predict(X_train)\n",
    "    y_test_pred = mlp_model.predict(X_test)\n",
    "    \n",
    "    train_err.append(np.mean(y_train != y_train_pred))\n",
    "    test_err.append(np.mean(y_test != y_test_pred))\n",
    "    train_acc.append(accuracy_score(y_train, y_train_pred))\n",
    "    test_acc.append(accuracy_score(y_test, y_test_pred))"
   ]
  },
  {
   "cell_type": "code",
   "execution_count": 37,
   "id": "48c24ae4",
   "metadata": {},
   "outputs": [
    {
     "data": {
      "text/plain": [
       "<matplotlib.legend.Legend at 0x1471beaf6a0>"
      ]
     },
     "execution_count": 37,
     "metadata": {},
     "output_type": "execute_result"
    },
    {
     "data": {
      "image/png": "[encoded data removed]",
      "text/plain": [
       "<Figure size 432x288 with 1 Axes>"
      ]
     },
     "metadata": {
      "needs_background": "light"
     },
     "output_type": "display_data"
    }
   ],
   "source": [
    "plt.semilogx(alpha_arr, train_err, 'b-o', label = 'train')\n",
    "plt.semilogx(alpha_arr, test_err, 'r-o', label = 'test')\n",
    "plt.xlim([np.min(alpha_arr), np.max(alpha_arr)])\n",
    "plt.title('Error vs. alpha')\n",
    "plt.xlabel('alpha')\n",
    "plt.ylabel('error')\n",
    "plt.legend()\n"
   ]
  },
  {
   "cell_type": "code",
   "execution_count": 38,
   "id": "8aa0efd7",
   "metadata": {},
   "outputs": [
    {
     "data": {
      "text/plain": [
       "<matplotlib.legend.Legend at 0x1471d2faaf0>"
      ]
     },
     "execution_count": 38,
     "metadata": {},
     "output_type": "execute_result"
    },
    {
     "data": {
      "image/png": "[encoded data removed]",
      "text/plain": [
       "<Figure size 432x288 with 1 Axes>"
      ]
     },
     "metadata": {
      "needs_background": "light"
     },
     "output_type": "display_data"
    }
   ],
   "source": [
    "plt.semilogx(alpha_arr, train_acc, 'r-o', label = 'train')\n",
    "plt.semilogx(alpha_arr, test_acc, 'b-o', label = 'test')\n",
    "plt.xlim([np.min(alpha_arr), np.max(alpha_arr)])\n",
    "plt.title('Accuracy vs. alpha')\n",
    "plt.xlabel('alpha')\n",
    "plt.ylabel('Accuracy')\n",
    "plt.legend()"
   ]
  },
  {
   "cell_type": "code",
   "execution_count": 39,
   "id": "edb45c2d",
   "metadata": {},
   "outputs": [
    {
     "name": "stdout",
     "output_type": "stream",
     "text": [
      "0.25531268973891924 0.29508196721311475\n"
     ]
    }
   ],
   "source": [
    "min_train_err = np.min(train_err)\n",
    "min_test_err = np.min(test_err)\n",
    "print(min_train_err, min_test_err)"
   ]
  },
  {
   "cell_type": "code",
   "execution_count": 40,
   "id": "4866e665",
   "metadata": {},
   "outputs": [
    {
     "name": "stdout",
     "output_type": "stream",
     "text": [
      "[0.001      0.00316228 0.00562341 0.01       0.01778279]\n"
     ]
    }
   ],
   "source": [
    "alpha_opt = alpha_arr[test_err == min_test_err]\n",
    "print(alpha_opt)"
   ]
  },
  {
   "cell_type": "code",
   "execution_count": 41,
   "id": "295051f2",
   "metadata": {},
   "outputs": [],
   "source": [
    "alpha_opt = alpha_opt[0]"
   ]
  },
  {
   "cell_type": "code",
   "execution_count": 79,
   "id": "244afa25",
   "metadata": {},
   "outputs": [
    {
     "name": "stdout",
     "output_type": "stream",
     "text": [
      "0.222829386763813\n",
      "0.3005464480874317\n"
     ]
    }
   ],
   "source": [
    "mlp_model = MLPClassifier(alpha = alpha_opt, hidden_layer_sizes = (400,),\n",
    "                          solver = 'lbfgs', activation = 'logistic',max_iter=1000, random_state = 22)\n",
    "mlp_model.fit(X_train, y_train)\n",
    "\n",
    "y_train_pred = mlp_model.predict(X_train)\n",
    "y_test_pred = mlp_model.predict(X_test)\n",
    "print(np.mean(y_train != y_train_pred))\n",
    "print(np.mean(y_test != y_test_pred))"
   ]
  },
  {
   "cell_type": "markdown",
   "id": "d90dd73c",
   "metadata": {},
   "source": [
    "### Подбор количества нейтронов"
   ]
  },
  {
   "cell_type": "code",
   "execution_count": 82,
   "id": "d832fa07",
   "metadata": {},
   "outputs": [
    {
     "data": {
      "text/plain": [
       "array([  1,  11,  22,  33,  44,  55,  65,  76,  87,  98, 109, 120, 130,\n",
       "       141, 152, 163, 174, 185, 195, 206, 217, 228, 239, 250])"
      ]
     },
     "execution_count": 82,
     "metadata": {},
     "output_type": "execute_result"
    }
   ],
   "source": [
    "neuron_count_array = np.linspace(1, 250, 24).astype(int)\n",
    "neuron_count_array "
   ]
  },
  {
   "cell_type": "code",
   "execution_count": null,
   "id": "8259f36d",
   "metadata": {},
   "outputs": [],
   "source": [
    "test_error = []\n",
    "train_error = []\n",
    "for neuron_count in neuron_count_array:\n",
    "    model = MLPClassifier(\n",
    "        alpha=alpha_opt,\n",
    "        hidden_layer_sizes=(neuron_count,),\n",
    "        solver='lbfgs',\n",
    "        activation ='logistic',\n",
    "        max_iter=1000,\n",
    "        random_state = 42\n",
    "    )\n",
    "    model.fit(X_train, y_train)\n",
    "    y_train_prediction = model.predict(X_train)\n",
    "    y_test_prediction = model.predict(X_test)\n",
    "    test_error.append(np.mean(y_test != y_test_pred))\n",
    "    train_error.append(np.mean(y_train != y_train_pred))"
   ]
  },
  {
   "cell_type": "code",
   "execution_count": null,
   "id": "42718120",
   "metadata": {},
   "outputs": [],
   "source": [
    "min_test_error = np.min(test_error)\n",
    "neuron_count_optimal = neuron_count_array[test_error == min_test_error][0]\n",
    "print('Optimal neuron count: {}'.format(neuron_count_optimal))"
   ]
  },
  {
   "cell_type": "markdown",
   "id": "bb997664",
   "metadata": {},
   "source": [
    "### Выводы\n",
    "\n",
    "Ошибка получилась намного больше, чем при применении Деревьев Решений, возможно, эти данные лучше классифицирует этот алгоритм"
   ]
  },
  {
   "cell_type": "code",
   "execution_count": null,
   "id": "492b20b3",
   "metadata": {},
   "outputs": [],
   "source": []
  }
 ],
 "metadata": {
  "kernelspec": {
   "display_name": "Python 3",
   "language": "python",
   "name": "python3"
  },
  "language_info": {
   "codemirror_mode": {
    "name": "ipython",
    "version": 3
   },
   "file_extension": ".py",
   "mimetype": "text/x-python",
   "name": "python",
   "nbconvert_exporter": "python",
   "pygments_lexer": "ipython3",
   "version": "3.8.8"
  }
 },
 "nbformat": 4,
 "nbformat_minor": 5
}
